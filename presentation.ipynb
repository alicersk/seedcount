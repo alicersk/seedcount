{
 "metadata": {
  "language_info": {
   "codemirror_mode": {
    "name": "ipython",
    "version": 3
   },
   "file_extension": ".py",
   "mimetype": "text/x-python",
   "name": "python",
   "nbconvert_exporter": "python",
   "pygments_lexer": "ipython3",
   "version": "3.8.5"
  },
  "orig_nbformat": 2,
  "kernelspec": {
   "name": "python385jvsc74a57bd08cf52de1bea967dbd744091d5e1215288145aa103dcbd72984f023d5b24786fb",
   "display_name": "Python 3.8.5 64-bit ('base': conda)"
  }
 },
 "nbformat": 4,
 "nbformat_minor": 2,
 "cells": [
  {
   "cell_type": "code",
   "execution_count": 1,
   "metadata": {},
   "outputs": [],
   "source": [
    "import pandas as pd\n",
    "import altair as alt\n",
    "import numpy as np\n",
    "import random\n",
    "\n",
    "DATA = pd.read_csv('./sampledocs/Book1.csv').set_index('species')\n",
    "\n"
   ]
  },
  {
   "source": [
    "species=[]\n",
    "season= []\n",
    "color= []\n",
    "\n",
    "for index, row in DATA.iterrows():\n",
    "        for i in range (0, row[\"plants_per_meter\"]):\n",
    "            color.append(row[\"bloom_color\"])\n",
    "            species.append(index)\n",
    "            if row[\"spring\"]==1 and row[\"summer\"]==0 and row[\"autumn\"]==0:\n",
    "                season.append(\"spring\")\n",
    "            elif row[\"summer\"]==1 and row [\"spring\"]==0 and row [\"autumn\"]==0:\n",
    "                season.append(\"summer\")\n",
    "            elif row[\"autumn\"]==1 and row [\"spring\"]==0 and row [\"summer\"]==0:\n",
    "                season.append(\"autumn\")\n",
    "            elif row[\"spring\"]==1 and row [\"summer\"]==1 and row[\"autumn\"]==1:\n",
    "                season.append(\"spring\")\n",
    "                season.append(\"summer\")\n",
    "                season.append(\"autumn\")\n",
    "                color.append(row[\"bloom_color\"])\n",
    "                color.append(row[\"bloom_color\"])\n",
    "                color.append(row[\"bloom_color\"])\n",
    "                species.append(index)\n",
    "                species.append(index)\n",
    "                species.append(index)\n",
    "            elif row[\"spring\"]==1 and row [\"summer\"]==1 and row[\"autumn\"]==0:\n",
    "                season.append(\"spring\")\n",
    "                season.append(\"summer\")\n",
    "                color.append(row[\"bloom_color\"])\n",
    "                color.append(row[\"bloom_color\"])\n",
    "                species.append(index) \n",
    "                species.append(index)\n",
    "            elif row[\"spring\"]==0 and row [\"summer\"]==1 and row[\"autumn\"]==1:\n",
    "                season.append(\"summer\")\n",
    "                season.append(\"autumn\")\n",
    "                color.append(row[\"bloom_color\"])\n",
    "                color.append(row[\"bloom_color\"])\n",
    "                species.append(index) \n",
    "                species.append(index)\n",
    "CALC = pd.DataFrame((species,season, color), index=None).T\n",
    "\n",
    "CALC"
   ],
   "cell_type": "code",
   "metadata": {},
   "execution_count": 2,
   "outputs": [
    {
     "output_type": "execute_result",
     "data": {
      "text/plain": [
       "                        0       1       2\n",
       "0   Achillea millefolium*  summer   White\n",
       "1   Achillea millefolium*  autumn   White\n",
       "2   Achillea millefolium*  summer   White\n",
       "3   Achillea millefolium*  autumn   White\n",
       "4   Achillea millefolium*  summer   White\n",
       "5   Achillea millefolium*  autumn   White\n",
       "6   Achillea millefolium*  summer   White\n",
       "7   Achillea millefolium*  autumn   White\n",
       "8   Achillea millefolium*  summer   White\n",
       "9   Achillea millefolium*  autumn   White\n",
       "10  Achillea millefolium*  spring   White\n",
       "11  Achillea millefolium*  summer   White\n",
       "12  Achillea millefolium*  spring   White\n",
       "13  Achillea millefolium*  summer   White\n",
       "14  Achillea millefolium*  spring   White\n",
       "15      Acorus americanus  summer  Yellow\n",
       "16      Acorus americanus  spring  Yellow\n",
       "17      Acorus americanus  summer  Yellow\n",
       "18      Acorus americanus  summer  Yellow\n",
       "19      Acorus americanus  summer  Yellow\n",
       "20      Acorus americanus  summer  Yellow\n",
       "21      Acorus americanus  summer  Yellow\n",
       "22      Acorus americanus  autumn  Yellow\n",
       "23      Acorus americanus  summer  Yellow\n",
       "24      Acorus americanus  autumn  Yellow\n",
       "25      Acorus americanus  summer  Yellow\n",
       "26      Acorus americanus  autumn  Yellow\n",
       "27   Agastache foeniculum  summer    Blue\n",
       "28   Agastache foeniculum  autumn    Blue\n",
       "29   Agastache foeniculum  summer    Blue\n",
       "30   Agrimonia parviflora  autumn  Yellow\n",
       "31   Agrimonia parviflora    None  Yellow\n",
       "32   Agrimonia parviflora    None  Yellow\n",
       "33   Agrimonia parviflora    None  Yellow\n",
       "34   Agrimonia parviflora    None  Yellow\n",
       "35   Agrimonia parviflora    None  Yellow\n",
       "36   Agrimonia parviflora    None  Yellow\n",
       "37   Agrimonia parviflora    None  Yellow\n",
       "38   Agrimonia parviflora    None  Yellow\n",
       "39   Agrimonia parviflora    None  Yellow\n",
       "40   Agrimonia parviflora    None  Yellow\n",
       "41   Agrimonia parviflora    None  Yellow\n",
       "42   Agrimonia parviflora    None  Yellow\n",
       "43   Agrimonia parviflora    None  Yellow\n",
       "44   Agrimonia parviflora    None  Yellow\n",
       "45         Agrostis alba*    None    None\n",
       "46         Agrostis alba*    None    None\n",
       "47      Agrostis hyemalis    None    None"
      ],
      "text/html": "<div>\n<style scoped>\n    .dataframe tbody tr th:only-of-type {\n        vertical-align: middle;\n    }\n\n    .dataframe tbody tr th {\n        vertical-align: top;\n    }\n\n    .dataframe thead th {\n        text-align: right;\n    }\n</style>\n<table border=\"1\" class=\"dataframe\">\n  <thead>\n    <tr style=\"text-align: right;\">\n      <th></th>\n      <th>0</th>\n      <th>1</th>\n      <th>2</th>\n    </tr>\n  </thead>\n  <tbody>\n    <tr>\n      <th>0</th>\n      <td>Achillea millefolium*</td>\n      <td>summer</td>\n      <td>White</td>\n    </tr>\n    <tr>\n      <th>1</th>\n      <td>Achillea millefolium*</td>\n      <td>autumn</td>\n      <td>White</td>\n    </tr>\n    <tr>\n      <th>2</th>\n      <td>Achillea millefolium*</td>\n      <td>summer</td>\n      <td>White</td>\n    </tr>\n    <tr>\n      <th>3</th>\n      <td>Achillea millefolium*</td>\n      <td>autumn</td>\n      <td>White</td>\n    </tr>\n    <tr>\n      <th>4</th>\n      <td>Achillea millefolium*</td>\n      <td>summer</td>\n      <td>White</td>\n    </tr>\n    <tr>\n      <th>5</th>\n      <td>Achillea millefolium*</td>\n      <td>autumn</td>\n      <td>White</td>\n    </tr>\n    <tr>\n      <th>6</th>\n      <td>Achillea millefolium*</td>\n      <td>summer</td>\n      <td>White</td>\n    </tr>\n    <tr>\n      <th>7</th>\n      <td>Achillea millefolium*</td>\n      <td>autumn</td>\n      <td>White</td>\n    </tr>\n    <tr>\n      <th>8</th>\n      <td>Achillea millefolium*</td>\n      <td>summer</td>\n      <td>White</td>\n    </tr>\n    <tr>\n      <th>9</th>\n      <td>Achillea millefolium*</td>\n      <td>autumn</td>\n      <td>White</td>\n    </tr>\n    <tr>\n      <th>10</th>\n      <td>Achillea millefolium*</td>\n      <td>spring</td>\n      <td>White</td>\n    </tr>\n    <tr>\n      <th>11</th>\n      <td>Achillea millefolium*</td>\n      <td>summer</td>\n      <td>White</td>\n    </tr>\n    <tr>\n      <th>12</th>\n      <td>Achillea millefolium*</td>\n      <td>spring</td>\n      <td>White</td>\n    </tr>\n    <tr>\n      <th>13</th>\n      <td>Achillea millefolium*</td>\n      <td>summer</td>\n      <td>White</td>\n    </tr>\n    <tr>\n      <th>14</th>\n      <td>Achillea millefolium*</td>\n      <td>spring</td>\n      <td>White</td>\n    </tr>\n    <tr>\n      <th>15</th>\n      <td>Acorus americanus</td>\n      <td>summer</td>\n      <td>Yellow</td>\n    </tr>\n    <tr>\n      <th>16</th>\n      <td>Acorus americanus</td>\n      <td>spring</td>\n      <td>Yellow</td>\n    </tr>\n    <tr>\n      <th>17</th>\n      <td>Acorus americanus</td>\n      <td>summer</td>\n      <td>Yellow</td>\n    </tr>\n    <tr>\n      <th>18</th>\n      <td>Acorus americanus</td>\n      <td>summer</td>\n      <td>Yellow</td>\n    </tr>\n    <tr>\n      <th>19</th>\n      <td>Acorus americanus</td>\n      <td>summer</td>\n      <td>Yellow</td>\n    </tr>\n    <tr>\n      <th>20</th>\n      <td>Acorus americanus</td>\n      <td>summer</td>\n      <td>Yellow</td>\n    </tr>\n    <tr>\n      <th>21</th>\n      <td>Acorus americanus</td>\n      <td>summer</td>\n      <td>Yellow</td>\n    </tr>\n    <tr>\n      <th>22</th>\n      <td>Acorus americanus</td>\n      <td>autumn</td>\n      <td>Yellow</td>\n    </tr>\n    <tr>\n      <th>23</th>\n      <td>Acorus americanus</td>\n      <td>summer</td>\n      <td>Yellow</td>\n    </tr>\n    <tr>\n      <th>24</th>\n      <td>Acorus americanus</td>\n      <td>autumn</td>\n      <td>Yellow</td>\n    </tr>\n    <tr>\n      <th>25</th>\n      <td>Acorus americanus</td>\n      <td>summer</td>\n      <td>Yellow</td>\n    </tr>\n    <tr>\n      <th>26</th>\n      <td>Acorus americanus</td>\n      <td>autumn</td>\n      <td>Yellow</td>\n    </tr>\n    <tr>\n      <th>27</th>\n      <td>Agastache foeniculum</td>\n      <td>summer</td>\n      <td>Blue</td>\n    </tr>\n    <tr>\n      <th>28</th>\n      <td>Agastache foeniculum</td>\n      <td>autumn</td>\n      <td>Blue</td>\n    </tr>\n    <tr>\n      <th>29</th>\n      <td>Agastache foeniculum</td>\n      <td>summer</td>\n      <td>Blue</td>\n    </tr>\n    <tr>\n      <th>30</th>\n      <td>Agrimonia parviflora</td>\n      <td>autumn</td>\n      <td>Yellow</td>\n    </tr>\n    <tr>\n      <th>31</th>\n      <td>Agrimonia parviflora</td>\n      <td>None</td>\n      <td>Yellow</td>\n    </tr>\n    <tr>\n      <th>32</th>\n      <td>Agrimonia parviflora</td>\n      <td>None</td>\n      <td>Yellow</td>\n    </tr>\n    <tr>\n      <th>33</th>\n      <td>Agrimonia parviflora</td>\n      <td>None</td>\n      <td>Yellow</td>\n    </tr>\n    <tr>\n      <th>34</th>\n      <td>Agrimonia parviflora</td>\n      <td>None</td>\n      <td>Yellow</td>\n    </tr>\n    <tr>\n      <th>35</th>\n      <td>Agrimonia parviflora</td>\n      <td>None</td>\n      <td>Yellow</td>\n    </tr>\n    <tr>\n      <th>36</th>\n      <td>Agrimonia parviflora</td>\n      <td>None</td>\n      <td>Yellow</td>\n    </tr>\n    <tr>\n      <th>37</th>\n      <td>Agrimonia parviflora</td>\n      <td>None</td>\n      <td>Yellow</td>\n    </tr>\n    <tr>\n      <th>38</th>\n      <td>Agrimonia parviflora</td>\n      <td>None</td>\n      <td>Yellow</td>\n    </tr>\n    <tr>\n      <th>39</th>\n      <td>Agrimonia parviflora</td>\n      <td>None</td>\n      <td>Yellow</td>\n    </tr>\n    <tr>\n      <th>40</th>\n      <td>Agrimonia parviflora</td>\n      <td>None</td>\n      <td>Yellow</td>\n    </tr>\n    <tr>\n      <th>41</th>\n      <td>Agrimonia parviflora</td>\n      <td>None</td>\n      <td>Yellow</td>\n    </tr>\n    <tr>\n      <th>42</th>\n      <td>Agrimonia parviflora</td>\n      <td>None</td>\n      <td>Yellow</td>\n    </tr>\n    <tr>\n      <th>43</th>\n      <td>Agrimonia parviflora</td>\n      <td>None</td>\n      <td>Yellow</td>\n    </tr>\n    <tr>\n      <th>44</th>\n      <td>Agrimonia parviflora</td>\n      <td>None</td>\n      <td>Yellow</td>\n    </tr>\n    <tr>\n      <th>45</th>\n      <td>Agrostis alba*</td>\n      <td>None</td>\n      <td>None</td>\n    </tr>\n    <tr>\n      <th>46</th>\n      <td>Agrostis alba*</td>\n      <td>None</td>\n      <td>None</td>\n    </tr>\n    <tr>\n      <th>47</th>\n      <td>Agrostis hyemalis</td>\n      <td>None</td>\n      <td>None</td>\n    </tr>\n  </tbody>\n</table>\n</div>"
     },
     "metadata": {},
     "execution_count": 2
    }
   ]
  },
  {
   "cell_type": "code",
   "execution_count": 3,
   "metadata": {},
   "outputs": [
    {
     "output_type": "execute_result",
     "data": {
      "text/plain": [
       "bloom_color  season  Yellow  Blue  White\n",
       "0            SPRING     1.0   NaN    NaN\n",
       "1            SUMMER     2.0   1.0    1.0\n",
       "2            AUTUMN     1.0   NaN    1.0"
      ],
      "text/html": "<div>\n<style scoped>\n    .dataframe tbody tr th:only-of-type {\n        vertical-align: middle;\n    }\n\n    .dataframe tbody tr th {\n        vertical-align: top;\n    }\n\n    .dataframe thead th {\n        text-align: right;\n    }\n</style>\n<table border=\"1\" class=\"dataframe\">\n  <thead>\n    <tr style=\"text-align: right;\">\n      <th>bloom_color</th>\n      <th>season</th>\n      <th>Yellow</th>\n      <th>Blue</th>\n      <th>White</th>\n    </tr>\n  </thead>\n  <tbody>\n    <tr>\n      <th>0</th>\n      <td>SPRING</td>\n      <td>1.0</td>\n      <td>NaN</td>\n      <td>NaN</td>\n    </tr>\n    <tr>\n      <th>1</th>\n      <td>SUMMER</td>\n      <td>2.0</td>\n      <td>1.0</td>\n      <td>1.0</td>\n    </tr>\n    <tr>\n      <th>2</th>\n      <td>AUTUMN</td>\n      <td>1.0</td>\n      <td>NaN</td>\n      <td>1.0</td>\n    </tr>\n  </tbody>\n</table>\n</div>"
     },
     "metadata": {},
     "execution_count": 3
    }
   ],
   "source": [
    "subDATA=DATA[['common_name','spring', 'summer', 'autumn', 'bloom_color']]\n",
    "\n",
    "\n",
    "spring=subDATA.groupby(['spring','bloom_color']).count().loc[1.0].rename(columns={'common_name':'SPRING'}).filter([\"SPRING\"])\n",
    "\n",
    "summer=subDATA.groupby(['summer', 'bloom_color']).count().loc[1.0].rename(columns={'common_name':'SUMMER'}).filter([\"SUMMER\"])\n",
    "\n",
    "autumn=subDATA.groupby(['autumn', 'bloom_color']).count().loc[1.0].rename(columns={'common_name':'AUTUMN'}).filter([\"AUTUMN\"])\n",
    "\n",
    "plotdata=pd.concat([spring, summer, autumn], axis=1).T.reset_index().rename(columns={'index':'season'})\n",
    "\n",
    "plotdata"
   ]
  },
  {
   "cell_type": "code",
   "execution_count": 4,
   "metadata": {},
   "outputs": [
    {
     "output_type": "execute_result",
     "data": {
      "text/plain": [
       "   season bloom_color  value\n",
       "0  SPRING      Yellow    1.0\n",
       "1  SUMMER      Yellow    2.0\n",
       "2  AUTUMN      Yellow    1.0\n",
       "3  SPRING        Blue    NaN\n",
       "4  SUMMER        Blue    1.0\n",
       "5  AUTUMN        Blue    NaN\n",
       "6  SPRING       White    NaN\n",
       "7  SUMMER       White    1.0\n",
       "8  AUTUMN       White    1.0"
      ],
      "text/html": "<div>\n<style scoped>\n    .dataframe tbody tr th:only-of-type {\n        vertical-align: middle;\n    }\n\n    .dataframe tbody tr th {\n        vertical-align: top;\n    }\n\n    .dataframe thead th {\n        text-align: right;\n    }\n</style>\n<table border=\"1\" class=\"dataframe\">\n  <thead>\n    <tr style=\"text-align: right;\">\n      <th></th>\n      <th>season</th>\n      <th>bloom_color</th>\n      <th>value</th>\n    </tr>\n  </thead>\n  <tbody>\n    <tr>\n      <th>0</th>\n      <td>SPRING</td>\n      <td>Yellow</td>\n      <td>1.0</td>\n    </tr>\n    <tr>\n      <th>1</th>\n      <td>SUMMER</td>\n      <td>Yellow</td>\n      <td>2.0</td>\n    </tr>\n    <tr>\n      <th>2</th>\n      <td>AUTUMN</td>\n      <td>Yellow</td>\n      <td>1.0</td>\n    </tr>\n    <tr>\n      <th>3</th>\n      <td>SPRING</td>\n      <td>Blue</td>\n      <td>NaN</td>\n    </tr>\n    <tr>\n      <th>4</th>\n      <td>SUMMER</td>\n      <td>Blue</td>\n      <td>1.0</td>\n    </tr>\n    <tr>\n      <th>5</th>\n      <td>AUTUMN</td>\n      <td>Blue</td>\n      <td>NaN</td>\n    </tr>\n    <tr>\n      <th>6</th>\n      <td>SPRING</td>\n      <td>White</td>\n      <td>NaN</td>\n    </tr>\n    <tr>\n      <th>7</th>\n      <td>SUMMER</td>\n      <td>White</td>\n      <td>1.0</td>\n    </tr>\n    <tr>\n      <th>8</th>\n      <td>AUTUMN</td>\n      <td>White</td>\n      <td>1.0</td>\n    </tr>\n  </tbody>\n</table>\n</div>"
     },
     "metadata": {},
     "execution_count": 4
    }
   ],
   "source": [
    "plotdata2=plotdata.melt('season')\n",
    "plotdata2"
   ]
  },
  {
   "cell_type": "code",
   "execution_count": 28,
   "metadata": {},
   "outputs": [
    {
     "output_type": "execute_result",
     "data": {
      "text/html": "\n<div id=\"altair-viz-b03fa46861fd4b07bde93300a9fbed29\"></div>\n<script type=\"text/javascript\">\n  (function(spec, embedOpt){\n    let outputDiv = document.currentScript.previousElementSibling;\n    if (outputDiv.id !== \"altair-viz-b03fa46861fd4b07bde93300a9fbed29\") {\n      outputDiv = document.getElementById(\"altair-viz-b03fa46861fd4b07bde93300a9fbed29\");\n    }\n    const paths = {\n      \"vega\": \"https://cdn.jsdelivr.net/npm//vega@5?noext\",\n      \"vega-lib\": \"https://cdn.jsdelivr.net/npm//vega-lib?noext\",\n      \"vega-lite\": \"https://cdn.jsdelivr.net/npm//vega-lite@4.8.1?noext\",\n      \"vega-embed\": \"https://cdn.jsdelivr.net/npm//vega-embed@6?noext\",\n    };\n\n    function loadScript(lib) {\n      return new Promise(function(resolve, reject) {\n        var s = document.createElement('script');\n        s.src = paths[lib];\n        s.async = true;\n        s.onload = () => resolve(paths[lib]);\n        s.onerror = () => reject(`Error loading script: ${paths[lib]}`);\n        document.getElementsByTagName(\"head\")[0].appendChild(s);\n      });\n    }\n\n    function showError(err) {\n      outputDiv.innerHTML = `<div class=\"error\" style=\"color:red;\">${err}</div>`;\n      throw err;\n    }\n\n    function displayChart(vegaEmbed) {\n      vegaEmbed(outputDiv, spec, embedOpt)\n        .catch(err => showError(`Javascript Error: ${err.message}<br>This usually means there's a typo in your chart specification. See the javascript console for the full traceback.`));\n    }\n\n    if(typeof define === \"function\" && define.amd) {\n      requirejs.config({paths});\n      require([\"vega-embed\"], displayChart, err => showError(`Error loading script: ${err.message}`));\n    } else if (typeof vegaEmbed === \"function\") {\n      displayChart(vegaEmbed);\n    } else {\n      loadScript(\"vega\")\n        .then(() => loadScript(\"vega-lite\"))\n        .then(() => loadScript(\"vega-embed\"))\n        .catch(showError)\n        .then(() => displayChart(vegaEmbed));\n    }\n  })({\"config\": {\"view\": {\"continuousWidth\": 400, \"continuousHeight\": 300}}, \"data\": {\"name\": \"data-6fb3f248ec1ea75247fe41fa4fb0dbba\"}, \"mark\": {\"type\": \"bar\", \"size\": 100}, \"encoding\": {\"color\": {\"type\": \"nominal\", \"field\": \"bloom_color\", \"legend\": {\"title\": \"Bloom Color\"}, \"scale\": {\"domain\": [\"Blue\", \"Yellow\", \"Purple\", \"White\", \"Red\", \"Pink\", \"Orange\", \"Green\"], \"range\": [\"#1560BD\", \"#FFD300\", \"#BD33A4\", \"#FFF8DC\", \"#B31B1B\", \"#E4717A\", \"#ED872D\", \"#ACE1AF\"]}}, \"x\": {\"type\": \"nominal\", \"field\": \"season\", \"sort\": [\"SPRING\", \"SUMMER\", \"AUTUMN\"]}, \"y\": {\"type\": \"quantitative\", \"field\": \"value\"}}, \"height\": 700, \"width\": 500, \"$schema\": \"https://vega.github.io/schema/vega-lite/v4.8.1.json\", \"datasets\": {\"data-6fb3f248ec1ea75247fe41fa4fb0dbba\": [{\"season\": \"SPRING\", \"bloom_color\": \"Yellow\", \"value\": 1.0}, {\"season\": \"SUMMER\", \"bloom_color\": \"Yellow\", \"value\": 2.0}, {\"season\": \"AUTUMN\", \"bloom_color\": \"Yellow\", \"value\": 1.0}, {\"season\": \"SPRING\", \"bloom_color\": \"Blue\", \"value\": null}, {\"season\": \"SUMMER\", \"bloom_color\": \"Blue\", \"value\": 1.0}, {\"season\": \"AUTUMN\", \"bloom_color\": \"Blue\", \"value\": null}, {\"season\": \"SPRING\", \"bloom_color\": \"White\", \"value\": null}, {\"season\": \"SUMMER\", \"bloom_color\": \"White\", \"value\": 1.0}, {\"season\": \"AUTUMN\", \"bloom_color\": \"White\", \"value\": 1.0}]}}, {\"mode\": \"vega-lite\"});\n</script>",
      "text/plain": [
       "alt.Chart(...)"
      ]
     },
     "metadata": {},
     "execution_count": 28
    }
   ],
   "source": [
    "seasonaldistribution = alt.Chart(plotdata2).mark_bar(size=100).encode(\n",
    "       x=alt.X('season:N', sort=['SPRING', 'SUMMER', 'AUTUMN']),\n",
    "       y='value:Q',\n",
    "       color=alt.Color('bloom_color:N',\n",
    "                    scale = alt.Scale(domain=['Blue', 'Yellow', 'Purple', 'White', 'Red', 'Pink', 'Orange', 'Green'], range=['#1560BD', '#FFD300', '#BD33A4', '#FFF8DC', '#B31B1B', '#E4717A', '#ED872D', '#ACE1AF']),\n",
    "                    legend = alt.Legend(title=\"Bloom Color\")\n",
    "        )\n",
    "       \n",
    "       \n",
    "       ).properties(width=500, height=700)\n",
    "\n",
    "seasonaldistribution"
   ]
  },
  {
   "cell_type": "code",
   "execution_count": 5,
   "metadata": {},
   "outputs": [
    {
     "output_type": "execute_result",
     "data": {
      "text/plain": [
       "                                   common_name  seeds_per_lb  forb  fall  \\\n",
       "species                                                                    \n",
       "Achillea millefolium*            Common Yarrow       2790000     1     1   \n",
       "Achillea millefolium*            Common Yarrow       2790000     1     1   \n",
       "Achillea millefolium*            Common Yarrow       2790000     1     1   \n",
       "Achillea millefolium*            Common Yarrow       2790000     1     1   \n",
       "Achillea millefolium*            Common Yarrow       2790000     1     1   \n",
       "Acorus americanus                    Sweetflag         70000     1     1   \n",
       "Acorus americanus                    Sweetflag         70000     1     1   \n",
       "Acorus americanus                    Sweetflag         70000     1     1   \n",
       "Acorus americanus                    Sweetflag         70000     1     1   \n",
       "Agastache foeniculum           Lavender Hyssop       1362000     1     1   \n",
       "Agastache foeniculum           Lavender Hyssop       1362000     1     1   \n",
       "Agastache foeniculum           Lavender Hyssop       1362000     1     1   \n",
       "Agrimonia parviflora   Small Flowered Agrimony        288000     1     1   \n",
       "Agrimonia parviflora   Small Flowered Agrimony        288000     1     1   \n",
       "Agrimonia parviflora   Small Flowered Agrimony        288000     1     1   \n",
       "Agrimonia parviflora   Small Flowered Agrimony        288000     1     1   \n",
       "Agrimonia parviflora   Small Flowered Agrimony        288000     1     1   \n",
       "\n",
       "                       germ_rate   ht                  habitat  spring  \\\n",
       "species                                                                  \n",
       "Achillea millefolium*        0.7  3.3      Dry to Average Soil       0   \n",
       "Achillea millefolium*        0.7  3.3      Dry to Average Soil       0   \n",
       "Achillea millefolium*        0.7  3.3      Dry to Average Soil       0   \n",
       "Achillea millefolium*        0.7  3.3      Dry to Average Soil       0   \n",
       "Achillea millefolium*        0.7  3.3      Dry to Average Soil       0   \n",
       "Acorus americanus            0.7  6.5           Saturated Soil       1   \n",
       "Acorus americanus            0.7  6.5           Saturated Soil       1   \n",
       "Acorus americanus            0.7  6.5           Saturated Soil       1   \n",
       "Acorus americanus            0.7  6.5           Saturated Soil       1   \n",
       "Agastache foeniculum         0.7  3.3      Dry to Average Soil       0   \n",
       "Agastache foeniculum         0.7  3.3      Dry to Average Soil       0   \n",
       "Agastache foeniculum         0.7  3.3      Dry to Average Soil       0   \n",
       "Agrimonia parviflora         0.7  4.9  Consistently Moist Soil       0   \n",
       "Agrimonia parviflora         0.7  4.9  Consistently Moist Soil       0   \n",
       "Agrimonia parviflora         0.7  4.9  Consistently Moist Soil       0   \n",
       "Agrimonia parviflora         0.7  4.9  Consistently Moist Soil       0   \n",
       "Agrimonia parviflora         0.7  4.9  Consistently Moist Soil       0   \n",
       "\n",
       "                       summer  autumn Native bloom_color  plants_per_meter  \n",
       "species                                                                     \n",
       "Achillea millefolium*       1       1     No       White                 5  \n",
       "Achillea millefolium*       1       1     No       White                 5  \n",
       "Achillea millefolium*       1       1     No       White                 5  \n",
       "Achillea millefolium*       1       1     No       White                 5  \n",
       "Achillea millefolium*       1       1     No       White                 5  \n",
       "Acorus americanus           1       0    Yes      Yellow                 4  \n",
       "Acorus americanus           1       0    Yes      Yellow                 4  \n",
       "Acorus americanus           1       0    Yes      Yellow                 4  \n",
       "Acorus americanus           1       0    Yes      Yellow                 4  \n",
       "Agastache foeniculum        1       0    Yes        Blue                 3  \n",
       "Agastache foeniculum        1       0    Yes        Blue                 3  \n",
       "Agastache foeniculum        1       0    Yes        Blue                 3  \n",
       "Agrimonia parviflora        1       1    Yes      Yellow                 5  \n",
       "Agrimonia parviflora        1       1    Yes      Yellow                 5  \n",
       "Agrimonia parviflora        1       1    Yes      Yellow                 5  \n",
       "Agrimonia parviflora        1       1    Yes      Yellow                 5  \n",
       "Agrimonia parviflora        1       1    Yes      Yellow                 5  "
      ],
      "text/html": "<div>\n<style scoped>\n    .dataframe tbody tr th:only-of-type {\n        vertical-align: middle;\n    }\n\n    .dataframe tbody tr th {\n        vertical-align: top;\n    }\n\n    .dataframe thead th {\n        text-align: right;\n    }\n</style>\n<table border=\"1\" class=\"dataframe\">\n  <thead>\n    <tr style=\"text-align: right;\">\n      <th></th>\n      <th>common_name</th>\n      <th>seeds_per_lb</th>\n      <th>forb</th>\n      <th>fall</th>\n      <th>germ_rate</th>\n      <th>ht</th>\n      <th>habitat</th>\n      <th>spring</th>\n      <th>summer</th>\n      <th>autumn</th>\n      <th>Native</th>\n      <th>bloom_color</th>\n      <th>plants_per_meter</th>\n    </tr>\n    <tr>\n      <th>species</th>\n      <th></th>\n      <th></th>\n      <th></th>\n      <th></th>\n      <th></th>\n      <th></th>\n      <th></th>\n      <th></th>\n      <th></th>\n      <th></th>\n      <th></th>\n      <th></th>\n      <th></th>\n    </tr>\n  </thead>\n  <tbody>\n    <tr>\n      <th>Achillea millefolium*</th>\n      <td>Common Yarrow</td>\n      <td>2790000</td>\n      <td>1</td>\n      <td>1</td>\n      <td>0.7</td>\n      <td>3.3</td>\n      <td>Dry to Average Soil</td>\n      <td>0</td>\n      <td>1</td>\n      <td>1</td>\n      <td>No</td>\n      <td>White</td>\n      <td>5</td>\n    </tr>\n    <tr>\n      <th>Achillea millefolium*</th>\n      <td>Common Yarrow</td>\n      <td>2790000</td>\n      <td>1</td>\n      <td>1</td>\n      <td>0.7</td>\n      <td>3.3</td>\n      <td>Dry to Average Soil</td>\n      <td>0</td>\n      <td>1</td>\n      <td>1</td>\n      <td>No</td>\n      <td>White</td>\n      <td>5</td>\n    </tr>\n    <tr>\n      <th>Achillea millefolium*</th>\n      <td>Common Yarrow</td>\n      <td>2790000</td>\n      <td>1</td>\n      <td>1</td>\n      <td>0.7</td>\n      <td>3.3</td>\n      <td>Dry to Average Soil</td>\n      <td>0</td>\n      <td>1</td>\n      <td>1</td>\n      <td>No</td>\n      <td>White</td>\n      <td>5</td>\n    </tr>\n    <tr>\n      <th>Achillea millefolium*</th>\n      <td>Common Yarrow</td>\n      <td>2790000</td>\n      <td>1</td>\n      <td>1</td>\n      <td>0.7</td>\n      <td>3.3</td>\n      <td>Dry to Average Soil</td>\n      <td>0</td>\n      <td>1</td>\n      <td>1</td>\n      <td>No</td>\n      <td>White</td>\n      <td>5</td>\n    </tr>\n    <tr>\n      <th>Achillea millefolium*</th>\n      <td>Common Yarrow</td>\n      <td>2790000</td>\n      <td>1</td>\n      <td>1</td>\n      <td>0.7</td>\n      <td>3.3</td>\n      <td>Dry to Average Soil</td>\n      <td>0</td>\n      <td>1</td>\n      <td>1</td>\n      <td>No</td>\n      <td>White</td>\n      <td>5</td>\n    </tr>\n    <tr>\n      <th>Acorus americanus</th>\n      <td>Sweetflag</td>\n      <td>70000</td>\n      <td>1</td>\n      <td>1</td>\n      <td>0.7</td>\n      <td>6.5</td>\n      <td>Saturated Soil</td>\n      <td>1</td>\n      <td>1</td>\n      <td>0</td>\n      <td>Yes</td>\n      <td>Yellow</td>\n      <td>4</td>\n    </tr>\n    <tr>\n      <th>Acorus americanus</th>\n      <td>Sweetflag</td>\n      <td>70000</td>\n      <td>1</td>\n      <td>1</td>\n      <td>0.7</td>\n      <td>6.5</td>\n      <td>Saturated Soil</td>\n      <td>1</td>\n      <td>1</td>\n      <td>0</td>\n      <td>Yes</td>\n      <td>Yellow</td>\n      <td>4</td>\n    </tr>\n    <tr>\n      <th>Acorus americanus</th>\n      <td>Sweetflag</td>\n      <td>70000</td>\n      <td>1</td>\n      <td>1</td>\n      <td>0.7</td>\n      <td>6.5</td>\n      <td>Saturated Soil</td>\n      <td>1</td>\n      <td>1</td>\n      <td>0</td>\n      <td>Yes</td>\n      <td>Yellow</td>\n      <td>4</td>\n    </tr>\n    <tr>\n      <th>Acorus americanus</th>\n      <td>Sweetflag</td>\n      <td>70000</td>\n      <td>1</td>\n      <td>1</td>\n      <td>0.7</td>\n      <td>6.5</td>\n      <td>Saturated Soil</td>\n      <td>1</td>\n      <td>1</td>\n      <td>0</td>\n      <td>Yes</td>\n      <td>Yellow</td>\n      <td>4</td>\n    </tr>\n    <tr>\n      <th>Agastache foeniculum</th>\n      <td>Lavender Hyssop</td>\n      <td>1362000</td>\n      <td>1</td>\n      <td>1</td>\n      <td>0.7</td>\n      <td>3.3</td>\n      <td>Dry to Average Soil</td>\n      <td>0</td>\n      <td>1</td>\n      <td>0</td>\n      <td>Yes</td>\n      <td>Blue</td>\n      <td>3</td>\n    </tr>\n    <tr>\n      <th>Agastache foeniculum</th>\n      <td>Lavender Hyssop</td>\n      <td>1362000</td>\n      <td>1</td>\n      <td>1</td>\n      <td>0.7</td>\n      <td>3.3</td>\n      <td>Dry to Average Soil</td>\n      <td>0</td>\n      <td>1</td>\n      <td>0</td>\n      <td>Yes</td>\n      <td>Blue</td>\n      <td>3</td>\n    </tr>\n    <tr>\n      <th>Agastache foeniculum</th>\n      <td>Lavender Hyssop</td>\n      <td>1362000</td>\n      <td>1</td>\n      <td>1</td>\n      <td>0.7</td>\n      <td>3.3</td>\n      <td>Dry to Average Soil</td>\n      <td>0</td>\n      <td>1</td>\n      <td>0</td>\n      <td>Yes</td>\n      <td>Blue</td>\n      <td>3</td>\n    </tr>\n    <tr>\n      <th>Agrimonia parviflora</th>\n      <td>Small Flowered Agrimony</td>\n      <td>288000</td>\n      <td>1</td>\n      <td>1</td>\n      <td>0.7</td>\n      <td>4.9</td>\n      <td>Consistently Moist Soil</td>\n      <td>0</td>\n      <td>1</td>\n      <td>1</td>\n      <td>Yes</td>\n      <td>Yellow</td>\n      <td>5</td>\n    </tr>\n    <tr>\n      <th>Agrimonia parviflora</th>\n      <td>Small Flowered Agrimony</td>\n      <td>288000</td>\n      <td>1</td>\n      <td>1</td>\n      <td>0.7</td>\n      <td>4.9</td>\n      <td>Consistently Moist Soil</td>\n      <td>0</td>\n      <td>1</td>\n      <td>1</td>\n      <td>Yes</td>\n      <td>Yellow</td>\n      <td>5</td>\n    </tr>\n    <tr>\n      <th>Agrimonia parviflora</th>\n      <td>Small Flowered Agrimony</td>\n      <td>288000</td>\n      <td>1</td>\n      <td>1</td>\n      <td>0.7</td>\n      <td>4.9</td>\n      <td>Consistently Moist Soil</td>\n      <td>0</td>\n      <td>1</td>\n      <td>1</td>\n      <td>Yes</td>\n      <td>Yellow</td>\n      <td>5</td>\n    </tr>\n    <tr>\n      <th>Agrimonia parviflora</th>\n      <td>Small Flowered Agrimony</td>\n      <td>288000</td>\n      <td>1</td>\n      <td>1</td>\n      <td>0.7</td>\n      <td>4.9</td>\n      <td>Consistently Moist Soil</td>\n      <td>0</td>\n      <td>1</td>\n      <td>1</td>\n      <td>Yes</td>\n      <td>Yellow</td>\n      <td>5</td>\n    </tr>\n    <tr>\n      <th>Agrimonia parviflora</th>\n      <td>Small Flowered Agrimony</td>\n      <td>288000</td>\n      <td>1</td>\n      <td>1</td>\n      <td>0.7</td>\n      <td>4.9</td>\n      <td>Consistently Moist Soil</td>\n      <td>0</td>\n      <td>1</td>\n      <td>1</td>\n      <td>Yes</td>\n      <td>Yellow</td>\n      <td>5</td>\n    </tr>\n  </tbody>\n</table>\n</div>"
     },
     "metadata": {},
     "execution_count": 5
    }
   ],
   "source": [
    "forbs = DATA.loc[DATA['forb'] == 1]\n",
    "blooming=forbs.loc[np.repeat(forbs.index.values, forbs.plants_per_meter)]\n",
    "blooming"
   ]
  },
  {
   "cell_type": "code",
   "execution_count": 6,
   "metadata": {},
   "outputs": [
    {
     "output_type": "execute_result",
     "data": {
      "text/plain": [
       "                    common_name  seeds_per_lb  forb  fall  germ_rate  ht  \\\n",
       "spring bloom_color                                                         \n",
       "0      Blue                   3             3     3     3          3   3   \n",
       "       White                  5             5     5     5          5   5   \n",
       "       Yellow                 5             5     5     5          5   5   \n",
       "1      Yellow                 4             4     4     4          4   4   \n",
       "\n",
       "                    habitat  summer  autumn  Native  plants_per_meter  \n",
       "spring bloom_color                                                     \n",
       "0      Blue               3       3       3       3                 3  \n",
       "       White              5       5       5       5                 5  \n",
       "       Yellow             5       5       5       5                 5  \n",
       "1      Yellow             4       4       4       4                 4  "
      ],
      "text/html": "<div>\n<style scoped>\n    .dataframe tbody tr th:only-of-type {\n        vertical-align: middle;\n    }\n\n    .dataframe tbody tr th {\n        vertical-align: top;\n    }\n\n    .dataframe thead th {\n        text-align: right;\n    }\n</style>\n<table border=\"1\" class=\"dataframe\">\n  <thead>\n    <tr style=\"text-align: right;\">\n      <th></th>\n      <th></th>\n      <th>common_name</th>\n      <th>seeds_per_lb</th>\n      <th>forb</th>\n      <th>fall</th>\n      <th>germ_rate</th>\n      <th>ht</th>\n      <th>habitat</th>\n      <th>summer</th>\n      <th>autumn</th>\n      <th>Native</th>\n      <th>plants_per_meter</th>\n    </tr>\n    <tr>\n      <th>spring</th>\n      <th>bloom_color</th>\n      <th></th>\n      <th></th>\n      <th></th>\n      <th></th>\n      <th></th>\n      <th></th>\n      <th></th>\n      <th></th>\n      <th></th>\n      <th></th>\n      <th></th>\n    </tr>\n  </thead>\n  <tbody>\n    <tr>\n      <th rowspan=\"3\" valign=\"top\">0</th>\n      <th>Blue</th>\n      <td>3</td>\n      <td>3</td>\n      <td>3</td>\n      <td>3</td>\n      <td>3</td>\n      <td>3</td>\n      <td>3</td>\n      <td>3</td>\n      <td>3</td>\n      <td>3</td>\n      <td>3</td>\n    </tr>\n    <tr>\n      <th>White</th>\n      <td>5</td>\n      <td>5</td>\n      <td>5</td>\n      <td>5</td>\n      <td>5</td>\n      <td>5</td>\n      <td>5</td>\n      <td>5</td>\n      <td>5</td>\n      <td>5</td>\n      <td>5</td>\n    </tr>\n    <tr>\n      <th>Yellow</th>\n      <td>5</td>\n      <td>5</td>\n      <td>5</td>\n      <td>5</td>\n      <td>5</td>\n      <td>5</td>\n      <td>5</td>\n      <td>5</td>\n      <td>5</td>\n      <td>5</td>\n      <td>5</td>\n    </tr>\n    <tr>\n      <th>1</th>\n      <th>Yellow</th>\n      <td>4</td>\n      <td>4</td>\n      <td>4</td>\n      <td>4</td>\n      <td>4</td>\n      <td>4</td>\n      <td>4</td>\n      <td>4</td>\n      <td>4</td>\n      <td>4</td>\n      <td>4</td>\n    </tr>\n  </tbody>\n</table>\n</div>"
     },
     "metadata": {},
     "execution_count": 6
    }
   ],
   "source": [
    "spring=blooming.groupby(['spring', 'bloom_color']).count()\n",
    "spring"
   ]
  },
  {
   "cell_type": "code",
   "execution_count": 9,
   "metadata": {},
   "outputs": [
    {
     "output_type": "execute_result",
     "data": {
      "text/html": "\n<div id=\"altair-viz-1dbebbb6562e4060b760c082c16cb419\"></div>\n<script type=\"text/javascript\">\n  (function(spec, embedOpt){\n    let outputDiv = document.currentScript.previousElementSibling;\n    if (outputDiv.id !== \"altair-viz-1dbebbb6562e4060b760c082c16cb419\") {\n      outputDiv = document.getElementById(\"altair-viz-1dbebbb6562e4060b760c082c16cb419\");\n    }\n    const paths = {\n      \"vega\": \"https://cdn.jsdelivr.net/npm//vega@5?noext\",\n      \"vega-lib\": \"https://cdn.jsdelivr.net/npm//vega-lib?noext\",\n      \"vega-lite\": \"https://cdn.jsdelivr.net/npm//vega-lite@4.8.1?noext\",\n      \"vega-embed\": \"https://cdn.jsdelivr.net/npm//vega-embed@6?noext\",\n    };\n\n    function loadScript(lib) {\n      return new Promise(function(resolve, reject) {\n        var s = document.createElement('script');\n        s.src = paths[lib];\n        s.async = true;\n        s.onload = () => resolve(paths[lib]);\n        s.onerror = () => reject(`Error loading script: ${paths[lib]}`);\n        document.getElementsByTagName(\"head\")[0].appendChild(s);\n      });\n    }\n\n    function showError(err) {\n      outputDiv.innerHTML = `<div class=\"error\" style=\"color:red;\">${err}</div>`;\n      throw err;\n    }\n\n    function displayChart(vegaEmbed) {\n      vegaEmbed(outputDiv, spec, embedOpt)\n        .catch(err => showError(`Javascript Error: ${err.message}<br>This usually means there's a typo in your chart specification. See the javascript console for the full traceback.`));\n    }\n\n    if(typeof define === \"function\" && define.amd) {\n      requirejs.config({paths});\n      require([\"vega-embed\"], displayChart, err => showError(`Error loading script: ${err.message}`));\n    } else if (typeof vegaEmbed === \"function\") {\n      displayChart(vegaEmbed);\n    } else {\n      loadScript(\"vega\")\n        .then(() => loadScript(\"vega-lite\"))\n        .then(() => loadScript(\"vega-embed\"))\n        .catch(showError)\n        .then(() => displayChart(vegaEmbed));\n    }\n  })({\"config\": {\"view\": {\"continuousWidth\": 400, \"continuousHeight\": 300}, \"background\": \"#D3D3D3\"}, \"data\": {\"name\": \"data-7810b4e0e538879853dd46317abda0bb\"}, \"mark\": {\"type\": \"bar\", \"size\": 100}, \"encoding\": {\"color\": {\"type\": \"nominal\", \"field\": \"bloom_color\", \"legend\": {\"title\": \"Bloom Color\"}, \"scale\": {\"domain\": [\"Blue\", \"Yellow\", \"Purple\", \"White\", \"Red\", \"Pink\", \"Orange\", \"Green\", \"None\"], \"range\": [\"#5218FA\", \"#FFD300\", \"#BD33A4\", \"#F8F8FF\", \"#B31B1B\", \"#E4717A\", \"#ED872D\", \"#ACE1AF\", \"#7BB661\"]}}, \"x\": {\"type\": \"nominal\", \"field\": \"season\", \"sort\": [\"SPRING\", \"SUMMER\", \"AUTUMN\"]}, \"y\": {\"type\": \"quantitative\", \"axis\": {\"title\": \"number of plants per square meter in bloom\"}, \"field\": \"value\"}}, \"height\": 400, \"title\": \"Bloom Density by Season\", \"width\": 650, \"$schema\": \"https://vega.github.io/schema/vega-lite/v4.8.1.json\", \"datasets\": {\"data-7810b4e0e538879853dd46317abda0bb\": [{\"season\": \"SPRING\", \"bloom_color\": \"Yellow\", \"value\": 4.0}, {\"season\": \"SUMMER\", \"bloom_color\": \"Yellow\", \"value\": 9.0}, {\"season\": \"AUTUMN\", \"bloom_color\": \"Yellow\", \"value\": 5.0}, {\"season\": \"SPRING\", \"bloom_color\": \"Blue\", \"value\": null}, {\"season\": \"SUMMER\", \"bloom_color\": \"Blue\", \"value\": 3.0}, {\"season\": \"AUTUMN\", \"bloom_color\": \"Blue\", \"value\": null}, {\"season\": \"SPRING\", \"bloom_color\": \"White\", \"value\": null}, {\"season\": \"SUMMER\", \"bloom_color\": \"White\", \"value\": 5.0}, {\"season\": \"AUTUMN\", \"bloom_color\": \"White\", \"value\": 5.0}]}}, {\"mode\": \"vega-lite\"});\n</script>",
      "text/plain": [
       "alt.Chart(...)"
      ]
     },
     "metadata": {},
     "execution_count": 9
    }
   ],
   "source": [
    "\n",
    "\n",
    "spring=blooming.groupby(['spring', 'bloom_color']\n",
    "                ).count(\n",
    "                ).reset_index(\n",
    "                ).rename(columns={'plants_per_meter':'SPRING'}\n",
    "                ).filter(['spring','bloom_color', 'SPRING'])\n",
    "\n",
    "spring2=spring.loc[spring['spring']==1].filter(['bloom_color', 'SPRING']).set_index('bloom_color')\n",
    "\n",
    "summer=blooming.groupby(['summer', 'bloom_color']).count().rename(columns={'plants_per_meter':'SUMMER'}).loc[1].filter(['bloom_color', 'SUMMER'])\n",
    "\n",
    "autumn=blooming.groupby(['autumn', 'bloom_color']\n",
    "                ).count(\n",
    "                ).reset_index(\n",
    "                ).rename(columns={'plants_per_meter':'AUTUMN'}\n",
    "                ).filter(['autumn','bloom_color', 'AUTUMN'])\n",
    "\n",
    "autumn2=autumn.loc[autumn['autumn']==1].filter(['bloom_color', 'AUTUMN']).set_index('bloom_color')\n",
    "    \n",
    "source=pd.concat([spring2, summer, autumn2], axis=1).T.reset_index().rename(columns={'index':'season'}).melt('season')       \n",
    "source\n",
    "color = alt.Color('bloom_color:N',\n",
    "                    scale = alt.Scale(domain=['Blue', 'Yellow', 'Purple', 'White', 'Red', 'Pink', 'Orange', 'Green', 'None'], \n",
    "                    range=['#5218FA', '#FFD300', '#BD33A4', '#F8F8FF', '#B31B1B', '#E4717A', '#ED872D', '#ACE1AF','#7BB661']),\n",
    "                    legend = alt.Legend(title=\"Bloom Color\"))\n",
    "seasonaldistribution = alt.Chart(data=source, title='Bloom Density by Season').mark_bar(size=100).encode(\n",
    "                    x=alt.X('season:N', sort=['SPRING', 'SUMMER', 'AUTUMN']),\n",
    "                    y=alt.Y('value:Q',axis=alt.Axis(title='number of plants per square meter in bloom')),\n",
    "                    color=color\n",
    "                    ).properties(width=650, height=400).configure(background='#D3D3D3')\n",
    "\n",
    "seasonaldistribution\n"
   ]
  },
  {
   "cell_type": "code",
   "execution_count": null,
   "metadata": {},
   "outputs": [],
   "source": []
  }
 ]
}